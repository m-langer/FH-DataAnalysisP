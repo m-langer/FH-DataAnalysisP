{
 "cells": [
  {
   "cell_type": "markdown",
   "metadata": {
    "deletable": false,
    "editable": false,
    "nbgrader": {
     "cell_type": "markdown",
     "checksum": "a0044c1163cacdc1e6755aa867938270",
     "grade": false,
     "grade_id": "cell-4bce4bf3e32294c4",
     "locked": true,
     "schema_version": 3,
     "solution": false,
     "task": false
    },
    "slideshow": {
     "slide_type": "slide"
    }
   },
   "source": [
    "# Lab04: Timeseries Data\n",
    "![Time Series](https://uploads-ssl.webflow.com/5ec4696a9b6d337d51632638/6033e511c460742564ad33f7_63C156C6-39FD-4AB8-A947-0CA2F2B58180-p-800.png)"
   ]
  },
  {
   "cell_type": "code",
   "execution_count": 1,
   "metadata": {
    "deletable": false,
    "editable": false,
    "nbgrader": {
     "cell_type": "code",
     "checksum": "4d8c3b1ef046ce1d41bb94edb24595b7",
     "grade": false,
     "grade_id": "cell-4d785e74d7aaf669",
     "locked": true,
     "schema_version": 3,
     "solution": false,
     "task": false
    },
    "slideshow": {
     "slide_type": "subslide"
    }
   },
   "outputs": [],
   "source": [
    "import pandas as pd\n",
    "import matplotlib.pyplot as plt\n",
    "import seaborn as sns\n",
    "%matplotlib inline"
   ]
  },
  {
   "cell_type": "markdown",
   "metadata": {
    "deletable": false,
    "editable": false,
    "nbgrader": {
     "cell_type": "markdown",
     "checksum": "4afdafefad5cf56fc49b2b9232548a66",
     "grade": false,
     "grade_id": "cell-7226bd7387a2c5a6",
     "locked": true,
     "schema_version": 3,
     "solution": false,
     "task": false
    }
   },
   "source": [
    "## Time Series Data Structures\n",
    "Pandas offers additional data structure for working with date and time. A single point in time is represented as a ``Timestamp``."
   ]
  },
  {
   "cell_type": "code",
   "execution_count": 2,
   "metadata": {
    "slideshow": {
     "slide_type": "subslide"
    }
   },
   "outputs": [
    {
     "data": {
      "text/plain": [
       "Timestamp('2019-12-03 13:35:00')"
      ]
     },
     "execution_count": 2,
     "metadata": {},
     "output_type": "execute_result"
    }
   ],
   "source": [
    "pd.to_datetime('2019-12-03 1:35pm')"
   ]
  },
  {
   "cell_type": "code",
   "execution_count": 3,
   "metadata": {
    "slideshow": {
     "slide_type": "subslide"
    }
   },
   "outputs": [
    {
     "data": {
      "text/plain": [
       "Timestamp('1952-07-08 00:00:00')"
      ]
     },
     "execution_count": 3,
     "metadata": {},
     "output_type": "execute_result"
    }
   ],
   "source": [
    "pd.to_datetime('7/8/1952')"
   ]
  },
  {
   "cell_type": "markdown",
   "metadata": {
    "deletable": false,
    "editable": false,
    "nbgrader": {
     "cell_type": "markdown",
     "checksum": "ee5f5b83f169c5ff66253776cf06bb63",
     "grade": false,
     "grade_id": "cell-96b84e059d4b15b3",
     "locked": true,
     "schema_version": 3,
     "solution": false,
     "task": false
    },
    "slideshow": {
     "slide_type": "fragment"
    }
   },
   "source": [
    "The above date is interpreted as ``month/day/year``. The order can be changed by setting the ``dayfirst`` parameter."
   ]
  },
  {
   "cell_type": "code",
   "execution_count": 4,
   "metadata": {
    "slideshow": {
     "slide_type": "fragment"
    }
   },
   "outputs": [
    {
     "data": {
      "text/plain": [
       "Timestamp('1952-08-07 00:00:00')"
      ]
     },
     "execution_count": 4,
     "metadata": {},
     "output_type": "execute_result"
    }
   ],
   "source": [
    "pd.to_datetime('7/8/1952', dayfirst=True)"
   ]
  },
  {
   "cell_type": "markdown",
   "metadata": {
    "deletable": false,
    "editable": false,
    "nbgrader": {
     "cell_type": "markdown",
     "checksum": "0f61db6c6ee8f220aa139faa1ea96178",
     "grade": false,
     "grade_id": "cell-63e2b625c151dd11",
     "locked": true,
     "schema_version": 3,
     "solution": false,
     "task": false
    },
    "slideshow": {
     "slide_type": "subslide"
    }
   },
   "source": [
    "If we supply a list or array of strings as input to ``to_datetime()``, a sequence of date/time values in a ``DatetimeIndex`` object is returned. This is the core data structure that powers much of pandas time series functionality."
   ]
  },
  {
   "cell_type": "code",
   "execution_count": 5,
   "metadata": {
    "slideshow": {
     "slide_type": "fragment"
    }
   },
   "outputs": [
    {
     "data": {
      "text/plain": [
       "DatetimeIndex(['2018-01-05', '1952-07-08', '1995-10-10'], dtype='datetime64[ns]', freq=None)"
      ]
     },
     "execution_count": 5,
     "metadata": {},
     "output_type": "execute_result"
    }
   ],
   "source": [
    "pd.to_datetime(['2018-01-05', '7/8/1952', 'Oct 10, 1995'])"
   ]
  },
  {
   "cell_type": "markdown",
   "metadata": {
    "deletable": false,
    "editable": false,
    "nbgrader": {
     "cell_type": "markdown",
     "checksum": "063914e72ad4f8816773b8783e62b23e",
     "grade": false,
     "grade_id": "cell-f793da7e2fcc640b",
     "locked": true,
     "schema_version": 3,
     "solution": false,
     "task": false
    },
    "slideshow": {
     "slide_type": "subslide"
    }
   },
   "source": [
    "If we pass a number of strings in the same date/time format, we can explicitly specify it with the ``format`` parameter. This can significantly speed up the performance for very large datasets."
   ]
  },
  {
   "cell_type": "code",
   "execution_count": 6,
   "metadata": {
    "slideshow": {
     "slide_type": "fragment"
    }
   },
   "outputs": [
    {
     "data": {
      "text/plain": [
       "DatetimeIndex(['2010-02-25', '2017-08-06', '2012-12-15'], dtype='datetime64[ns]', freq=None)"
      ]
     },
     "execution_count": 6,
     "metadata": {},
     "output_type": "execute_result"
    }
   ],
   "source": [
    "pd.to_datetime(['2/25/10', '8/6/17', '12/15/12'], format='%m/%d/%y')"
   ]
  },
  {
   "cell_type": "code",
   "execution_count": 7,
   "metadata": {
    "slideshow": {
     "slide_type": "fragment"
    }
   },
   "outputs": [
    {
     "data": {
      "text/plain": [
       "DatetimeIndex(['2010-02-25', '2017-08-06', '2012-12-15'], dtype='datetime64[ns]', freq=None)"
      ]
     },
     "execution_count": 7,
     "metadata": {},
     "output_type": "execute_result"
    }
   ],
   "source": [
    "pd.to_datetime(['2/25/2010', '8/6/2017', '12/15/2012'], format='%m/%d/%Y')"
   ]
  },
  {
   "cell_type": "markdown",
   "metadata": {
    "deletable": false,
    "editable": false,
    "nbgrader": {
     "cell_type": "markdown",
     "checksum": "c60b9d0bdce3c671c526a681aaa02a54",
     "grade": false,
     "grade_id": "cell-a056e6836d5be879",
     "locked": true,
     "schema_version": 3,
     "solution": false,
     "task": false
    },
    "slideshow": {
     "slide_type": "slide"
    }
   },
   "source": [
    "## Creating a TimeSeries DataFrame\n",
    "Daily Open Power System Data from Germany inlcuding data about electricity consumption, wind power production and solar power production for 2006-2017, everything in GWh. The data is from [this tutorial](https://github.com/Open-Power-System-Data/time_series).\n",
    "\n",
    "First, read the data into `df` and display the head. The data can be found [here](https://raw.githubusercontent.com/ADSLab-Salzburg/DataAnalysiswithPython/main/data/opsd_germany_daily.csv)."
   ]
  },
  {
   "cell_type": "code",
   "execution_count": 8,
   "metadata": {
    "deletable": false,
    "nbgrader": {
     "cell_type": "code",
     "checksum": "29a1cd811b659534474a2ef104dd9ba1",
     "grade": false,
     "grade_id": "cell-087c9912f32256c7",
     "locked": false,
     "schema_version": 3,
     "solution": true,
     "task": false
    },
    "slideshow": {
     "slide_type": "subslide"
    }
   },
   "outputs": [
    {
     "data": {
      "text/html": [
       "<div>\n",
       "<style scoped>\n",
       "    .dataframe tbody tr th:only-of-type {\n",
       "        vertical-align: middle;\n",
       "    }\n",
       "\n",
       "    .dataframe tbody tr th {\n",
       "        vertical-align: top;\n",
       "    }\n",
       "\n",
       "    .dataframe thead th {\n",
       "        text-align: right;\n",
       "    }\n",
       "</style>\n",
       "<table border=\"1\" class=\"dataframe\">\n",
       "  <thead>\n",
       "    <tr style=\"text-align: right;\">\n",
       "      <th></th>\n",
       "      <th>Date</th>\n",
       "      <th>Consumption</th>\n",
       "      <th>Wind</th>\n",
       "      <th>Solar</th>\n",
       "      <th>Wind+Solar</th>\n",
       "    </tr>\n",
       "  </thead>\n",
       "  <tbody>\n",
       "    <tr>\n",
       "      <th>0</th>\n",
       "      <td>2006-01-01</td>\n",
       "      <td>1069.184</td>\n",
       "      <td>NaN</td>\n",
       "      <td>NaN</td>\n",
       "      <td>NaN</td>\n",
       "    </tr>\n",
       "    <tr>\n",
       "      <th>1</th>\n",
       "      <td>2006-01-02</td>\n",
       "      <td>1380.521</td>\n",
       "      <td>NaN</td>\n",
       "      <td>NaN</td>\n",
       "      <td>NaN</td>\n",
       "    </tr>\n",
       "    <tr>\n",
       "      <th>2</th>\n",
       "      <td>2006-01-03</td>\n",
       "      <td>1442.533</td>\n",
       "      <td>NaN</td>\n",
       "      <td>NaN</td>\n",
       "      <td>NaN</td>\n",
       "    </tr>\n",
       "    <tr>\n",
       "      <th>3</th>\n",
       "      <td>2006-01-04</td>\n",
       "      <td>1457.217</td>\n",
       "      <td>NaN</td>\n",
       "      <td>NaN</td>\n",
       "      <td>NaN</td>\n",
       "    </tr>\n",
       "    <tr>\n",
       "      <th>4</th>\n",
       "      <td>2006-01-05</td>\n",
       "      <td>1477.131</td>\n",
       "      <td>NaN</td>\n",
       "      <td>NaN</td>\n",
       "      <td>NaN</td>\n",
       "    </tr>\n",
       "  </tbody>\n",
       "</table>\n",
       "</div>"
      ],
      "text/plain": [
       "         Date  Consumption  Wind  Solar  Wind+Solar\n",
       "0  2006-01-01     1069.184   NaN    NaN         NaN\n",
       "1  2006-01-02     1380.521   NaN    NaN         NaN\n",
       "2  2006-01-03     1442.533   NaN    NaN         NaN\n",
       "3  2006-01-04     1457.217   NaN    NaN         NaN\n",
       "4  2006-01-05     1477.131   NaN    NaN         NaN"
      ]
     },
     "execution_count": 8,
     "metadata": {},
     "output_type": "execute_result"
    }
   ],
   "source": [
    "# YOUR CODE HERE\n",
    "# raise NotImplementedError()\n",
    "df = pd.read_csv('data/opsd_germany_daily.csv')\n",
    "df.head()"
   ]
  },
  {
   "cell_type": "code",
   "execution_count": 9,
   "metadata": {
    "deletable": false,
    "editable": false,
    "nbgrader": {
     "cell_type": "code",
     "checksum": "c08a532f52dadd9020984909014aee69",
     "grade": true,
     "grade_id": "cell-cf47f11b32e171c6",
     "locked": true,
     "points": 1,
     "schema_version": 3,
     "solution": false,
     "task": false
    }
   },
   "outputs": [],
   "source": [
    "# Ignore this cell - this is for automatic testing."
   ]
  },
  {
   "cell_type": "markdown",
   "metadata": {
    "deletable": false,
    "editable": false,
    "nbgrader": {
     "cell_type": "markdown",
     "checksum": "a2a92366df100fd01c0e941ad9c4d480",
     "grade": false,
     "grade_id": "cell-11811c2e1f28921f",
     "locked": true,
     "schema_version": 3,
     "solution": false,
     "task": false
    }
   },
   "source": [
    "Describe the data frame."
   ]
  },
  {
   "cell_type": "code",
   "execution_count": 10,
   "metadata": {
    "deletable": false,
    "nbgrader": {
     "cell_type": "code",
     "checksum": "52eeb4a99b30b3268427663a0d9c8c97",
     "grade": true,
     "grade_id": "cell-46946645e88ec482",
     "locked": false,
     "points": 0,
     "schema_version": 3,
     "solution": true,
     "task": false
    },
    "slideshow": {
     "slide_type": "subslide"
    }
   },
   "outputs": [
    {
     "data": {
      "text/html": [
       "<div>\n",
       "<style scoped>\n",
       "    .dataframe tbody tr th:only-of-type {\n",
       "        vertical-align: middle;\n",
       "    }\n",
       "\n",
       "    .dataframe tbody tr th {\n",
       "        vertical-align: top;\n",
       "    }\n",
       "\n",
       "    .dataframe thead th {\n",
       "        text-align: right;\n",
       "    }\n",
       "</style>\n",
       "<table border=\"1\" class=\"dataframe\">\n",
       "  <thead>\n",
       "    <tr style=\"text-align: right;\">\n",
       "      <th></th>\n",
       "      <th>Consumption</th>\n",
       "      <th>Wind</th>\n",
       "      <th>Solar</th>\n",
       "      <th>Wind+Solar</th>\n",
       "    </tr>\n",
       "  </thead>\n",
       "  <tbody>\n",
       "    <tr>\n",
       "      <th>count</th>\n",
       "      <td>4383.000000</td>\n",
       "      <td>2920.000000</td>\n",
       "      <td>2188.000000</td>\n",
       "      <td>2187.000000</td>\n",
       "    </tr>\n",
       "    <tr>\n",
       "      <th>mean</th>\n",
       "      <td>1338.675836</td>\n",
       "      <td>164.814173</td>\n",
       "      <td>89.258695</td>\n",
       "      <td>272.663481</td>\n",
       "    </tr>\n",
       "    <tr>\n",
       "      <th>std</th>\n",
       "      <td>165.775710</td>\n",
       "      <td>143.692732</td>\n",
       "      <td>58.550099</td>\n",
       "      <td>146.319884</td>\n",
       "    </tr>\n",
       "    <tr>\n",
       "      <th>min</th>\n",
       "      <td>842.395000</td>\n",
       "      <td>5.757000</td>\n",
       "      <td>1.968000</td>\n",
       "      <td>21.478000</td>\n",
       "    </tr>\n",
       "    <tr>\n",
       "      <th>25%</th>\n",
       "      <td>1217.859000</td>\n",
       "      <td>62.353250</td>\n",
       "      <td>35.179250</td>\n",
       "      <td>172.185500</td>\n",
       "    </tr>\n",
       "    <tr>\n",
       "      <th>50%</th>\n",
       "      <td>1367.123000</td>\n",
       "      <td>119.098000</td>\n",
       "      <td>86.407000</td>\n",
       "      <td>240.991000</td>\n",
       "    </tr>\n",
       "    <tr>\n",
       "      <th>75%</th>\n",
       "      <td>1457.761000</td>\n",
       "      <td>217.900250</td>\n",
       "      <td>135.071500</td>\n",
       "      <td>338.988000</td>\n",
       "    </tr>\n",
       "    <tr>\n",
       "      <th>max</th>\n",
       "      <td>1709.568000</td>\n",
       "      <td>826.278000</td>\n",
       "      <td>241.580000</td>\n",
       "      <td>851.556000</td>\n",
       "    </tr>\n",
       "  </tbody>\n",
       "</table>\n",
       "</div>"
      ],
      "text/plain": [
       "       Consumption         Wind        Solar   Wind+Solar\n",
       "count  4383.000000  2920.000000  2188.000000  2187.000000\n",
       "mean   1338.675836   164.814173    89.258695   272.663481\n",
       "std     165.775710   143.692732    58.550099   146.319884\n",
       "min     842.395000     5.757000     1.968000    21.478000\n",
       "25%    1217.859000    62.353250    35.179250   172.185500\n",
       "50%    1367.123000   119.098000    86.407000   240.991000\n",
       "75%    1457.761000   217.900250   135.071500   338.988000\n",
       "max    1709.568000   826.278000   241.580000   851.556000"
      ]
     },
     "execution_count": 10,
     "metadata": {},
     "output_type": "execute_result"
    }
   ],
   "source": [
    "# YOUR CODE HERE\n",
    "# raise NotImplementedError()\n",
    "df.describe()"
   ]
  },
  {
   "cell_type": "markdown",
   "metadata": {
    "deletable": false,
    "editable": false,
    "nbgrader": {
     "cell_type": "markdown",
     "checksum": "028cbf335d4cdd3c1e45d31bc9921bee",
     "grade": false,
     "grade_id": "cell-0f0eaf45b95d5fbd",
     "locked": true,
     "schema_version": 3,
     "solution": false,
     "task": false
    }
   },
   "source": [
    "Show the datatypes that are used in each column. Which datatype is not very easy useable for our usecase?"
   ]
  },
  {
   "cell_type": "code",
   "execution_count": 11,
   "metadata": {
    "deletable": false,
    "nbgrader": {
     "cell_type": "code",
     "checksum": "8e2bebeb3edbef0ee3cf133b397d52e0",
     "grade": true,
     "grade_id": "cell-aa3394a732911811",
     "locked": false,
     "points": 0,
     "schema_version": 3,
     "solution": true,
     "task": false
    },
    "slideshow": {
     "slide_type": "subslide"
    }
   },
   "outputs": [
    {
     "data": {
      "text/plain": [
       "Date            object\n",
       "Consumption    float64\n",
       "Wind           float64\n",
       "Solar          float64\n",
       "Wind+Solar     float64\n",
       "dtype: object"
      ]
     },
     "execution_count": 11,
     "metadata": {},
     "output_type": "execute_result"
    }
   ],
   "source": [
    "# YOUR CODE HERE\n",
    "# raise NotImplementedError()\n",
    "df.dtypes"
   ]
  },
  {
   "cell_type": "markdown",
   "metadata": {
    "deletable": false,
    "editable": false,
    "nbgrader": {
     "cell_type": "markdown",
     "checksum": "3482b976f058834c79239c25034a62cd",
     "grade": false,
     "grade_id": "cell-d59ac06f94423c92",
     "locked": true,
     "schema_version": 3,
     "solution": false,
     "task": false
    }
   },
   "source": [
    "As you can see, the Date is of type _object_. But we want to use it as a _dateime64_ object. To convert it, have a look to the [pandas.to_datetime](https://pandas.pydata.org/pandas-docs/stable/reference/api/pandas.to_datetime.html) function. Print the retulting datatypes."
   ]
  },
  {
   "cell_type": "code",
   "execution_count": 12,
   "metadata": {
    "deletable": false,
    "nbgrader": {
     "cell_type": "code",
     "checksum": "0bdb2c2b14e6ac11738465135263ca1e",
     "grade": false,
     "grade_id": "cell-3733ae681537a0d2",
     "locked": false,
     "schema_version": 3,
     "solution": true,
     "task": false
    },
    "slideshow": {
     "slide_type": "fragment"
    }
   },
   "outputs": [
    {
     "data": {
      "text/plain": [
       "Date           datetime64[ns]\n",
       "Consumption           float64\n",
       "Wind                  float64\n",
       "Solar                 float64\n",
       "Wind+Solar            float64\n",
       "dtype: object"
      ]
     },
     "execution_count": 12,
     "metadata": {},
     "output_type": "execute_result"
    }
   ],
   "source": [
    "# YOUR CODE HERE\n",
    "# raise NotImplementedError()\n",
    "df['Date'] = pd.to_datetime(df['Date'])\n",
    "df.dtypes"
   ]
  },
  {
   "cell_type": "code",
   "execution_count": 13,
   "metadata": {
    "deletable": false,
    "editable": false,
    "nbgrader": {
     "cell_type": "code",
     "checksum": "0f23b7bb31e1f1cd07164ee86802f1c7",
     "grade": true,
     "grade_id": "cell-e389cff9358e6789",
     "locked": true,
     "points": 4,
     "schema_version": 3,
     "solution": false,
     "task": false
    }
   },
   "outputs": [],
   "source": [
    "# Ignore this cell - this is for automatic testing."
   ]
  },
  {
   "cell_type": "markdown",
   "metadata": {
    "deletable": false,
    "editable": false,
    "nbgrader": {
     "cell_type": "markdown",
     "checksum": "75dbff0a43312dd8d6453e6aaca133c4",
     "grade": false,
     "grade_id": "cell-4b3b7fe9d3865f6a",
     "locked": true,
     "schema_version": 3,
     "solution": false,
     "task": false
    }
   },
   "source": [
    "In the following, one of the dates (`one_day`) is taken. You can easily extract all attributes, like year, day, month, hour, etc. from this object. In our case, the time is not set, thus it is set to 00:00:00. Play around a bit."
   ]
  },
  {
   "cell_type": "code",
   "execution_count": 14,
   "metadata": {
    "slideshow": {
     "slide_type": "subslide"
    }
   },
   "outputs": [
    {
     "name": "stdout",
     "output_type": "stream",
     "text": [
      "2006-01-01 00:00:00\n",
      "2006\n",
      "1\n",
      "1\n"
     ]
    }
   ],
   "source": [
    "one_day = df.iloc[0, 0]\n",
    "print(one_day)\n",
    "print(one_day.year)\n",
    "print(one_day.month)\n",
    "print(one_day.day)"
   ]
  },
  {
   "cell_type": "markdown",
   "metadata": {
    "deletable": false,
    "editable": false,
    "nbgrader": {
     "cell_type": "markdown",
     "checksum": "6260675175a8f0761dafa2d0b0562638",
     "grade": false,
     "grade_id": "cell-d3077479fb42044f",
     "locked": true,
     "schema_version": 3,
     "solution": false,
     "task": false
    },
    "slideshow": {
     "slide_type": "slide"
    }
   },
   "source": [
    "### Use Date  as Index\n",
    "Instead of using arbritary integer values as the index, try it with the date. The date is unique anyways. Print the head."
   ]
  },
  {
   "cell_type": "code",
   "execution_count": 15,
   "metadata": {
    "deletable": false,
    "nbgrader": {
     "cell_type": "code",
     "checksum": "7a8402648c6b9f5997b784996ab0ccfe",
     "grade": false,
     "grade_id": "cell-b12bb91ade1bb235",
     "locked": false,
     "schema_version": 3,
     "solution": true,
     "task": false
    },
    "slideshow": {
     "slide_type": "subslide"
    }
   },
   "outputs": [
    {
     "data": {
      "text/plain": [
       "<bound method NDFrame.head of             Consumption     Wind   Solar  Wind+Solar\n",
       "Date                                                \n",
       "2006-01-01   1069.18400      NaN     NaN         NaN\n",
       "2006-01-02   1380.52100      NaN     NaN         NaN\n",
       "2006-01-03   1442.53300      NaN     NaN         NaN\n",
       "2006-01-04   1457.21700      NaN     NaN         NaN\n",
       "2006-01-05   1477.13100      NaN     NaN         NaN\n",
       "...                 ...      ...     ...         ...\n",
       "2017-12-27   1263.94091  394.507  16.530     411.037\n",
       "2017-12-28   1299.86398  506.424  14.162     520.586\n",
       "2017-12-29   1295.08753  584.277  29.854     614.131\n",
       "2017-12-30   1215.44897  721.247   7.467     728.714\n",
       "2017-12-31   1107.11488  721.176  19.980     741.156\n",
       "\n",
       "[4383 rows x 4 columns]>"
      ]
     },
     "execution_count": 15,
     "metadata": {},
     "output_type": "execute_result"
    }
   ],
   "source": [
    "# YOUR CODE HERE\n",
    "# raise NotImplementedError()\n",
    "df.set_index(keys='Date',inplace=True)\n",
    "df.head\n",
    "\n"
   ]
  },
  {
   "cell_type": "code",
   "execution_count": 16,
   "metadata": {
    "deletable": false,
    "editable": false,
    "nbgrader": {
     "cell_type": "code",
     "checksum": "bb11749c92f6dc1931bb666767c80ea2",
     "grade": true,
     "grade_id": "cell-d9f09c56ea00425f",
     "locked": true,
     "points": 3,
     "schema_version": 3,
     "solution": false,
     "task": false
    }
   },
   "outputs": [],
   "source": [
    "# Ignore this cell - this is for automatic testing."
   ]
  },
  {
   "cell_type": "markdown",
   "metadata": {
    "deletable": false,
    "editable": false,
    "nbgrader": {
     "cell_type": "markdown",
     "checksum": "c7f82cd880a4c7098f2d85a4f55712be",
     "grade": false,
     "grade_id": "cell-aa2e2924dcdeae9e",
     "locked": true,
     "schema_version": 3,
     "solution": false,
     "task": false
    },
    "slideshow": {
     "slide_type": "subslide"
    }
   },
   "source": [
    "### Adding New Columns\n",
    "Add new columns named _Year_, _Month_ (Name, Jan-Dec), and _Weekday_ (Mo-So) and fill it with the corresponding values from the index. For further functionality of the the DateTime class have a look in the [API docs](https://pandas.pydata.org/pandas-docs/stable/reference/api/pandas.DatetimeIndex.html).\n",
    "\n",
    "Print the head."
   ]
  },
  {
   "cell_type": "code",
   "execution_count": 17,
   "metadata": {
    "deletable": false,
    "nbgrader": {
     "cell_type": "code",
     "checksum": "e88fd1721622a5dc9f306f9ddb18fd67",
     "grade": false,
     "grade_id": "cell-654ca818c44d34af",
     "locked": false,
     "schema_version": 3,
     "solution": true,
     "task": false
    },
    "slideshow": {
     "slide_type": "subslide"
    }
   },
   "outputs": [
    {
     "data": {
      "text/html": [
       "<div>\n",
       "<style scoped>\n",
       "    .dataframe tbody tr th:only-of-type {\n",
       "        vertical-align: middle;\n",
       "    }\n",
       "\n",
       "    .dataframe tbody tr th {\n",
       "        vertical-align: top;\n",
       "    }\n",
       "\n",
       "    .dataframe thead th {\n",
       "        text-align: right;\n",
       "    }\n",
       "</style>\n",
       "<table border=\"1\" class=\"dataframe\">\n",
       "  <thead>\n",
       "    <tr style=\"text-align: right;\">\n",
       "      <th></th>\n",
       "      <th>Consumption</th>\n",
       "      <th>Wind</th>\n",
       "      <th>Solar</th>\n",
       "      <th>Wind+Solar</th>\n",
       "      <th>Year</th>\n",
       "      <th>Month</th>\n",
       "      <th>Day</th>\n",
       "    </tr>\n",
       "    <tr>\n",
       "      <th>Date</th>\n",
       "      <th></th>\n",
       "      <th></th>\n",
       "      <th></th>\n",
       "      <th></th>\n",
       "      <th></th>\n",
       "      <th></th>\n",
       "      <th></th>\n",
       "    </tr>\n",
       "  </thead>\n",
       "  <tbody>\n",
       "    <tr>\n",
       "      <th>2006-01-01</th>\n",
       "      <td>1069.184</td>\n",
       "      <td>NaN</td>\n",
       "      <td>NaN</td>\n",
       "      <td>NaN</td>\n",
       "      <td>2006</td>\n",
       "      <td>Jan</td>\n",
       "      <td>Sun</td>\n",
       "    </tr>\n",
       "    <tr>\n",
       "      <th>2006-01-02</th>\n",
       "      <td>1380.521</td>\n",
       "      <td>NaN</td>\n",
       "      <td>NaN</td>\n",
       "      <td>NaN</td>\n",
       "      <td>2006</td>\n",
       "      <td>Jan</td>\n",
       "      <td>Mon</td>\n",
       "    </tr>\n",
       "    <tr>\n",
       "      <th>2006-01-03</th>\n",
       "      <td>1442.533</td>\n",
       "      <td>NaN</td>\n",
       "      <td>NaN</td>\n",
       "      <td>NaN</td>\n",
       "      <td>2006</td>\n",
       "      <td>Jan</td>\n",
       "      <td>Tue</td>\n",
       "    </tr>\n",
       "    <tr>\n",
       "      <th>2006-01-04</th>\n",
       "      <td>1457.217</td>\n",
       "      <td>NaN</td>\n",
       "      <td>NaN</td>\n",
       "      <td>NaN</td>\n",
       "      <td>2006</td>\n",
       "      <td>Jan</td>\n",
       "      <td>Wed</td>\n",
       "    </tr>\n",
       "    <tr>\n",
       "      <th>2006-01-05</th>\n",
       "      <td>1477.131</td>\n",
       "      <td>NaN</td>\n",
       "      <td>NaN</td>\n",
       "      <td>NaN</td>\n",
       "      <td>2006</td>\n",
       "      <td>Jan</td>\n",
       "      <td>Thu</td>\n",
       "    </tr>\n",
       "  </tbody>\n",
       "</table>\n",
       "</div>"
      ],
      "text/plain": [
       "            Consumption  Wind  Solar  Wind+Solar  Year Month  Day\n",
       "Date                                                             \n",
       "2006-01-01     1069.184   NaN    NaN         NaN  2006   Jan  Sun\n",
       "2006-01-02     1380.521   NaN    NaN         NaN  2006   Jan  Mon\n",
       "2006-01-03     1442.533   NaN    NaN         NaN  2006   Jan  Tue\n",
       "2006-01-04     1457.217   NaN    NaN         NaN  2006   Jan  Wed\n",
       "2006-01-05     1477.131   NaN    NaN         NaN  2006   Jan  Thu"
      ]
     },
     "execution_count": 17,
     "metadata": {},
     "output_type": "execute_result"
    }
   ],
   "source": [
    "# YOUR CODE HERE\n",
    "# raise NotImplementedError()\n",
    "df['Year'] = df.index.year\n",
    "df['Month'] = df.index.strftime('%b')\n",
    "df['Day'] = df.index.strftime('%a')\n",
    "df.head()"
   ]
  },
  {
   "cell_type": "code",
   "execution_count": 18,
   "metadata": {
    "deletable": false,
    "editable": false,
    "nbgrader": {
     "cell_type": "code",
     "checksum": "55fd9534c40f4fb72e0a293d24de0cf7",
     "grade": true,
     "grade_id": "cell-8589cd258c7d7199",
     "locked": true,
     "points": 4,
     "schema_version": 3,
     "solution": false,
     "task": false
    }
   },
   "outputs": [],
   "source": [
    "# Ignore this cell - this is for automatic testing."
   ]
  },
  {
   "cell_type": "markdown",
   "metadata": {
    "deletable": false,
    "editable": false,
    "nbgrader": {
     "cell_type": "markdown",
     "checksum": "fda1cb6773f93d7d5e734416ed4120c5",
     "grade": false,
     "grade_id": "cell-092878e5f7fcd052",
     "locked": true,
     "schema_version": 3,
     "solution": false,
     "task": false
    },
    "slideshow": {
     "slide_type": "subslide"
    }
   },
   "source": [
    "### Timebased Indexing\n",
    "For selecting a special date, just use `loc` with the date as a string. If a whole month shall be returned, ommit the day in the string. Play around a bit."
   ]
  },
  {
   "cell_type": "code",
   "execution_count": 19,
   "metadata": {
    "slideshow": {
     "slide_type": "subslide"
    }
   },
   "outputs": [
    {
     "data": {
      "text/plain": [
       "Consumption    1631.714\n",
       "Wind            487.782\n",
       "Solar            10.985\n",
       "Wind+Solar      498.767\n",
       "Year               2014\n",
       "Month               Dec\n",
       "Day                 Thu\n",
       "Name: 2014-12-11 00:00:00, dtype: object"
      ]
     },
     "execution_count": 19,
     "metadata": {},
     "output_type": "execute_result"
    }
   ],
   "source": [
    "df.loc['2014-12-11']"
   ]
  },
  {
   "cell_type": "code",
   "execution_count": 20,
   "metadata": {
    "slideshow": {
     "slide_type": "subslide"
    }
   },
   "outputs": [
    {
     "data": {
      "text/html": [
       "<div>\n",
       "<style scoped>\n",
       "    .dataframe tbody tr th:only-of-type {\n",
       "        vertical-align: middle;\n",
       "    }\n",
       "\n",
       "    .dataframe tbody tr th {\n",
       "        vertical-align: top;\n",
       "    }\n",
       "\n",
       "    .dataframe thead th {\n",
       "        text-align: right;\n",
       "    }\n",
       "</style>\n",
       "<table border=\"1\" class=\"dataframe\">\n",
       "  <thead>\n",
       "    <tr style=\"text-align: right;\">\n",
       "      <th></th>\n",
       "      <th>Consumption</th>\n",
       "      <th>Wind</th>\n",
       "      <th>Solar</th>\n",
       "      <th>Wind+Solar</th>\n",
       "      <th>Year</th>\n",
       "      <th>Month</th>\n",
       "      <th>Day</th>\n",
       "    </tr>\n",
       "    <tr>\n",
       "      <th>Date</th>\n",
       "      <th></th>\n",
       "      <th></th>\n",
       "      <th></th>\n",
       "      <th></th>\n",
       "      <th></th>\n",
       "      <th></th>\n",
       "      <th></th>\n",
       "    </tr>\n",
       "  </thead>\n",
       "  <tbody>\n",
       "    <tr>\n",
       "      <th>2012-03-01</th>\n",
       "      <td>1411.553</td>\n",
       "      <td>62.293</td>\n",
       "      <td>40.042</td>\n",
       "      <td>102.335</td>\n",
       "      <td>2012</td>\n",
       "      <td>Mar</td>\n",
       "      <td>Thu</td>\n",
       "    </tr>\n",
       "    <tr>\n",
       "      <th>2012-03-02</th>\n",
       "      <td>1402.006</td>\n",
       "      <td>39.972</td>\n",
       "      <td>38.665</td>\n",
       "      <td>78.637</td>\n",
       "      <td>2012</td>\n",
       "      <td>Mar</td>\n",
       "      <td>Fri</td>\n",
       "    </tr>\n",
       "    <tr>\n",
       "      <th>2012-03-03</th>\n",
       "      <td>1186.275</td>\n",
       "      <td>107.629</td>\n",
       "      <td>55.380</td>\n",
       "      <td>163.009</td>\n",
       "      <td>2012</td>\n",
       "      <td>Mar</td>\n",
       "      <td>Sat</td>\n",
       "    </tr>\n",
       "    <tr>\n",
       "      <th>2012-03-04</th>\n",
       "      <td>1072.078</td>\n",
       "      <td>80.685</td>\n",
       "      <td>32.054</td>\n",
       "      <td>112.739</td>\n",
       "      <td>2012</td>\n",
       "      <td>Mar</td>\n",
       "      <td>Sun</td>\n",
       "    </tr>\n",
       "    <tr>\n",
       "      <th>2012-03-05</th>\n",
       "      <td>1388.816</td>\n",
       "      <td>154.206</td>\n",
       "      <td>32.907</td>\n",
       "      <td>187.113</td>\n",
       "      <td>2012</td>\n",
       "      <td>Mar</td>\n",
       "      <td>Mon</td>\n",
       "    </tr>\n",
       "    <tr>\n",
       "      <th>2012-03-06</th>\n",
       "      <td>1433.166</td>\n",
       "      <td>61.690</td>\n",
       "      <td>83.002</td>\n",
       "      <td>144.692</td>\n",
       "      <td>2012</td>\n",
       "      <td>Mar</td>\n",
       "      <td>Tue</td>\n",
       "    </tr>\n",
       "    <tr>\n",
       "      <th>2012-03-07</th>\n",
       "      <td>1455.451</td>\n",
       "      <td>157.059</td>\n",
       "      <td>75.157</td>\n",
       "      <td>232.216</td>\n",
       "      <td>2012</td>\n",
       "      <td>Mar</td>\n",
       "      <td>Wed</td>\n",
       "    </tr>\n",
       "    <tr>\n",
       "      <th>2012-03-08</th>\n",
       "      <td>1412.181</td>\n",
       "      <td>150.182</td>\n",
       "      <td>44.725</td>\n",
       "      <td>194.907</td>\n",
       "      <td>2012</td>\n",
       "      <td>Mar</td>\n",
       "      <td>Thu</td>\n",
       "    </tr>\n",
       "    <tr>\n",
       "      <th>2012-03-09</th>\n",
       "      <td>1399.515</td>\n",
       "      <td>126.102</td>\n",
       "      <td>92.597</td>\n",
       "      <td>218.699</td>\n",
       "      <td>2012</td>\n",
       "      <td>Mar</td>\n",
       "      <td>Fri</td>\n",
       "    </tr>\n",
       "    <tr>\n",
       "      <th>2012-03-10</th>\n",
       "      <td>1153.172</td>\n",
       "      <td>216.614</td>\n",
       "      <td>59.995</td>\n",
       "      <td>276.609</td>\n",
       "      <td>2012</td>\n",
       "      <td>Mar</td>\n",
       "      <td>Sat</td>\n",
       "    </tr>\n",
       "    <tr>\n",
       "      <th>2012-03-11</th>\n",
       "      <td>1042.487</td>\n",
       "      <td>200.788</td>\n",
       "      <td>22.692</td>\n",
       "      <td>223.480</td>\n",
       "      <td>2012</td>\n",
       "      <td>Mar</td>\n",
       "      <td>Sun</td>\n",
       "    </tr>\n",
       "    <tr>\n",
       "      <th>2012-03-12</th>\n",
       "      <td>1347.463</td>\n",
       "      <td>194.245</td>\n",
       "      <td>37.298</td>\n",
       "      <td>231.543</td>\n",
       "      <td>2012</td>\n",
       "      <td>Mar</td>\n",
       "      <td>Mon</td>\n",
       "    </tr>\n",
       "    <tr>\n",
       "      <th>2012-03-13</th>\n",
       "      <td>1391.174</td>\n",
       "      <td>119.980</td>\n",
       "      <td>31.899</td>\n",
       "      <td>151.879</td>\n",
       "      <td>2012</td>\n",
       "      <td>Mar</td>\n",
       "      <td>Tue</td>\n",
       "    </tr>\n",
       "    <tr>\n",
       "      <th>2012-03-14</th>\n",
       "      <td>1403.836</td>\n",
       "      <td>65.823</td>\n",
       "      <td>56.300</td>\n",
       "      <td>122.123</td>\n",
       "      <td>2012</td>\n",
       "      <td>Mar</td>\n",
       "      <td>Wed</td>\n",
       "    </tr>\n",
       "    <tr>\n",
       "      <th>2012-03-15</th>\n",
       "      <td>1411.750</td>\n",
       "      <td>24.083</td>\n",
       "      <td>100.780</td>\n",
       "      <td>124.863</td>\n",
       "      <td>2012</td>\n",
       "      <td>Mar</td>\n",
       "      <td>Thu</td>\n",
       "    </tr>\n",
       "    <tr>\n",
       "      <th>2012-03-16</th>\n",
       "      <td>1365.107</td>\n",
       "      <td>74.494</td>\n",
       "      <td>111.971</td>\n",
       "      <td>186.465</td>\n",
       "      <td>2012</td>\n",
       "      <td>Mar</td>\n",
       "      <td>Fri</td>\n",
       "    </tr>\n",
       "    <tr>\n",
       "      <th>2012-03-17</th>\n",
       "      <td>1156.490</td>\n",
       "      <td>74.310</td>\n",
       "      <td>95.086</td>\n",
       "      <td>169.396</td>\n",
       "      <td>2012</td>\n",
       "      <td>Mar</td>\n",
       "      <td>Sat</td>\n",
       "    </tr>\n",
       "    <tr>\n",
       "      <th>2012-03-18</th>\n",
       "      <td>1062.459</td>\n",
       "      <td>162.956</td>\n",
       "      <td>58.994</td>\n",
       "      <td>221.950</td>\n",
       "      <td>2012</td>\n",
       "      <td>Mar</td>\n",
       "      <td>Sun</td>\n",
       "    </tr>\n",
       "    <tr>\n",
       "      <th>2012-03-19</th>\n",
       "      <td>1323.263</td>\n",
       "      <td>159.868</td>\n",
       "      <td>75.965</td>\n",
       "      <td>235.833</td>\n",
       "      <td>2012</td>\n",
       "      <td>Mar</td>\n",
       "      <td>Mon</td>\n",
       "    </tr>\n",
       "    <tr>\n",
       "      <th>2012-03-20</th>\n",
       "      <td>1377.970</td>\n",
       "      <td>145.134</td>\n",
       "      <td>109.882</td>\n",
       "      <td>255.016</td>\n",
       "      <td>2012</td>\n",
       "      <td>Mar</td>\n",
       "      <td>Tue</td>\n",
       "    </tr>\n",
       "    <tr>\n",
       "      <th>2012-03-21</th>\n",
       "      <td>1382.409</td>\n",
       "      <td>53.161</td>\n",
       "      <td>106.847</td>\n",
       "      <td>160.008</td>\n",
       "      <td>2012</td>\n",
       "      <td>Mar</td>\n",
       "      <td>Wed</td>\n",
       "    </tr>\n",
       "    <tr>\n",
       "      <th>2012-03-22</th>\n",
       "      <td>1390.429</td>\n",
       "      <td>40.730</td>\n",
       "      <td>116.147</td>\n",
       "      <td>156.877</td>\n",
       "      <td>2012</td>\n",
       "      <td>Mar</td>\n",
       "      <td>Thu</td>\n",
       "    </tr>\n",
       "    <tr>\n",
       "      <th>2012-03-23</th>\n",
       "      <td>1359.065</td>\n",
       "      <td>20.328</td>\n",
       "      <td>114.221</td>\n",
       "      <td>134.549</td>\n",
       "      <td>2012</td>\n",
       "      <td>Mar</td>\n",
       "      <td>Fri</td>\n",
       "    </tr>\n",
       "    <tr>\n",
       "      <th>2012-03-24</th>\n",
       "      <td>1150.784</td>\n",
       "      <td>25.567</td>\n",
       "      <td>106.528</td>\n",
       "      <td>132.095</td>\n",
       "      <td>2012</td>\n",
       "      <td>Mar</td>\n",
       "      <td>Sat</td>\n",
       "    </tr>\n",
       "    <tr>\n",
       "      <th>2012-03-25</th>\n",
       "      <td>1026.274</td>\n",
       "      <td>51.936</td>\n",
       "      <td>122.306</td>\n",
       "      <td>174.242</td>\n",
       "      <td>2012</td>\n",
       "      <td>Mar</td>\n",
       "      <td>Sun</td>\n",
       "    </tr>\n",
       "    <tr>\n",
       "      <th>2012-03-26</th>\n",
       "      <td>1330.815</td>\n",
       "      <td>31.232</td>\n",
       "      <td>123.155</td>\n",
       "      <td>154.387</td>\n",
       "      <td>2012</td>\n",
       "      <td>Mar</td>\n",
       "      <td>Mon</td>\n",
       "    </tr>\n",
       "    <tr>\n",
       "      <th>2012-03-27</th>\n",
       "      <td>1337.854</td>\n",
       "      <td>105.519</td>\n",
       "      <td>117.978</td>\n",
       "      <td>223.497</td>\n",
       "      <td>2012</td>\n",
       "      <td>Mar</td>\n",
       "      <td>Tue</td>\n",
       "    </tr>\n",
       "    <tr>\n",
       "      <th>2012-03-28</th>\n",
       "      <td>1310.033</td>\n",
       "      <td>204.920</td>\n",
       "      <td>124.795</td>\n",
       "      <td>329.715</td>\n",
       "      <td>2012</td>\n",
       "      <td>Mar</td>\n",
       "      <td>Wed</td>\n",
       "    </tr>\n",
       "    <tr>\n",
       "      <th>2012-03-29</th>\n",
       "      <td>1290.457</td>\n",
       "      <td>375.829</td>\n",
       "      <td>66.031</td>\n",
       "      <td>441.860</td>\n",
       "      <td>2012</td>\n",
       "      <td>Mar</td>\n",
       "      <td>Thu</td>\n",
       "    </tr>\n",
       "    <tr>\n",
       "      <th>2012-03-30</th>\n",
       "      <td>1277.080</td>\n",
       "      <td>374.948</td>\n",
       "      <td>35.938</td>\n",
       "      <td>410.886</td>\n",
       "      <td>2012</td>\n",
       "      <td>Mar</td>\n",
       "      <td>Fri</td>\n",
       "    </tr>\n",
       "    <tr>\n",
       "      <th>2012-03-31</th>\n",
       "      <td>1085.784</td>\n",
       "      <td>366.241</td>\n",
       "      <td>57.560</td>\n",
       "      <td>423.801</td>\n",
       "      <td>2012</td>\n",
       "      <td>Mar</td>\n",
       "      <td>Sat</td>\n",
       "    </tr>\n",
       "  </tbody>\n",
       "</table>\n",
       "</div>"
      ],
      "text/plain": [
       "            Consumption     Wind    Solar  Wind+Solar  Year Month  Day\n",
       "Date                                                                  \n",
       "2012-03-01     1411.553   62.293   40.042     102.335  2012   Mar  Thu\n",
       "2012-03-02     1402.006   39.972   38.665      78.637  2012   Mar  Fri\n",
       "2012-03-03     1186.275  107.629   55.380     163.009  2012   Mar  Sat\n",
       "2012-03-04     1072.078   80.685   32.054     112.739  2012   Mar  Sun\n",
       "2012-03-05     1388.816  154.206   32.907     187.113  2012   Mar  Mon\n",
       "2012-03-06     1433.166   61.690   83.002     144.692  2012   Mar  Tue\n",
       "2012-03-07     1455.451  157.059   75.157     232.216  2012   Mar  Wed\n",
       "2012-03-08     1412.181  150.182   44.725     194.907  2012   Mar  Thu\n",
       "2012-03-09     1399.515  126.102   92.597     218.699  2012   Mar  Fri\n",
       "2012-03-10     1153.172  216.614   59.995     276.609  2012   Mar  Sat\n",
       "2012-03-11     1042.487  200.788   22.692     223.480  2012   Mar  Sun\n",
       "2012-03-12     1347.463  194.245   37.298     231.543  2012   Mar  Mon\n",
       "2012-03-13     1391.174  119.980   31.899     151.879  2012   Mar  Tue\n",
       "2012-03-14     1403.836   65.823   56.300     122.123  2012   Mar  Wed\n",
       "2012-03-15     1411.750   24.083  100.780     124.863  2012   Mar  Thu\n",
       "2012-03-16     1365.107   74.494  111.971     186.465  2012   Mar  Fri\n",
       "2012-03-17     1156.490   74.310   95.086     169.396  2012   Mar  Sat\n",
       "2012-03-18     1062.459  162.956   58.994     221.950  2012   Mar  Sun\n",
       "2012-03-19     1323.263  159.868   75.965     235.833  2012   Mar  Mon\n",
       "2012-03-20     1377.970  145.134  109.882     255.016  2012   Mar  Tue\n",
       "2012-03-21     1382.409   53.161  106.847     160.008  2012   Mar  Wed\n",
       "2012-03-22     1390.429   40.730  116.147     156.877  2012   Mar  Thu\n",
       "2012-03-23     1359.065   20.328  114.221     134.549  2012   Mar  Fri\n",
       "2012-03-24     1150.784   25.567  106.528     132.095  2012   Mar  Sat\n",
       "2012-03-25     1026.274   51.936  122.306     174.242  2012   Mar  Sun\n",
       "2012-03-26     1330.815   31.232  123.155     154.387  2012   Mar  Mon\n",
       "2012-03-27     1337.854  105.519  117.978     223.497  2012   Mar  Tue\n",
       "2012-03-28     1310.033  204.920  124.795     329.715  2012   Mar  Wed\n",
       "2012-03-29     1290.457  375.829   66.031     441.860  2012   Mar  Thu\n",
       "2012-03-30     1277.080  374.948   35.938     410.886  2012   Mar  Fri\n",
       "2012-03-31     1085.784  366.241   57.560     423.801  2012   Mar  Sat"
      ]
     },
     "execution_count": 20,
     "metadata": {},
     "output_type": "execute_result"
    }
   ],
   "source": [
    "df.loc['2012-03']"
   ]
  },
  {
   "cell_type": "markdown",
   "metadata": {
    "deletable": false,
    "editable": false,
    "nbgrader": {
     "cell_type": "markdown",
     "checksum": "d37e6f2f31a06193c63472b972f2f281",
     "grade": false,
     "grade_id": "cell-0d403cf5de72ae11",
     "locked": true,
     "schema_version": 3,
     "solution": false,
     "task": false
    },
    "slideshow": {
     "slide_type": "slide"
    }
   },
   "source": [
    "## Let's plot something!\n",
    "In the following you can use the pandas plot functionality, and refine the plots using matplotlib (makes it easier).\n",
    "\n",
    "First, plot the `Consumptions`. Use a `figsize=(11,5)` and a `linewidth=.5`. Use axis labeling and a title."
   ]
  },
  {
   "cell_type": "code",
   "execution_count": 21,
   "metadata": {
    "deletable": false,
    "nbgrader": {
     "cell_type": "code",
     "checksum": "47dc4490f59bb28c753fb544ae37f220",
     "grade": true,
     "grade_id": "cell-69ea656ac50e27d3",
     "locked": false,
     "points": 10,
     "schema_version": 3,
     "solution": true,
     "task": false
    },
    "slideshow": {
     "slide_type": "subslide"
    }
   },
   "outputs": [
    {
     "data": {
      "image/png": "[encoded data removed]",
      "text/plain": [
       "<Figure size 792x360 with 1 Axes>"
      ]
     },
     "metadata": {
      "needs_background": "light"
     },
     "output_type": "display_data"
    }
   ],
   "source": [
    "# YOUR CODE HERE\n",
    "# raise NotImplementedError()\n",
    "plt.figure(figsize=(11,5))\n",
    "ax = sns.lineplot(data=df,y='Consumption',x=df.index, lw=.5)\n"
   ]
  },
  {
   "cell_type": "markdown",
   "metadata": {
    "deletable": false,
    "editable": false,
    "nbgrader": {
     "cell_type": "markdown",
     "checksum": "541a7d9de95c041ad711ab5affe3a6f1",
     "grade": false,
     "grade_id": "cell-714db104b58f9df0",
     "locked": true,
     "schema_version": 3,
     "solution": false,
     "task": false
    }
   },
   "source": [
    "Hmm.. Here we do not see too much. Let's try a different styling. can we see a pattern (difference between weekdays and weekends)?\n",
    "\n",
    "Plot the same as before, but with a different `marker` and `linestyle=None`. See [the docs](https://matplotlib.org/3.3.3/api/_as_gen/matplotlib.pyplot.plot.html)."
   ]
  },
  {
   "cell_type": "code",
   "execution_count": 22,
   "metadata": {
    "deletable": false,
    "nbgrader": {
     "cell_type": "code",
     "checksum": "99309e5bd3708db5e2fe1f3e45193b6b",
     "grade": true,
     "grade_id": "cell-3bb5524dcada03e8",
     "locked": false,
     "points": 8,
     "schema_version": 3,
     "solution": true,
     "task": false
    },
    "slideshow": {
     "slide_type": "subslide"
    }
   },
   "outputs": [
    {
     "data": {
      "text/plain": [
       "<AxesSubplot:xlabel='Date', ylabel='Consumption'>"
      ]
     },
     "execution_count": 22,
     "metadata": {},
     "output_type": "execute_result"
    },
    {
     "data": {
      "image/png": "[encoded data removed]",
      "text/plain": [
       "<Figure size 792x360 with 1 Axes>"
      ]
     },
     "metadata": {
      "needs_background": "light"
     },
     "output_type": "display_data"
    }
   ],
   "source": [
    "# YOUR CODE HERE\n",
    "# raise NotImplementedError()\n",
    "plt.figure(figsize=(11,5))\n",
    "sns.lineplot(data=df, x=df.index, y='Consumption', marker=',', linestyle='None')"
   ]
  },
  {
   "cell_type": "markdown",
   "metadata": {},
   "source": [
    "Now, you want to add two additional subplots for `Solar` and `Wind`. Again, use pandas to plot the data (same parameter as before). Adjust the `figsize` that one can see the data. For subplots with pandas, have a look [in the docs](https://pandas.pydata.org/pandas-docs/version/0.23.4/generated/pandas.DataFrame.plot.html).\n",
    "\n",
    "Don't forget about axis labeling!"
   ]
  },
  {
   "cell_type": "code",
   "execution_count": 57,
   "metadata": {
    "deletable": false,
    "nbgrader": {
     "cell_type": "code",
     "checksum": "1e973852524d516dde19cadd55fa34af",
     "grade": true,
     "grade_id": "cell-ae81acaa2c109a78",
     "locked": false,
     "points": 8,
     "schema_version": 3,
     "solution": true,
     "task": false
    },
    "slideshow": {
     "slide_type": "subslide"
    }
   },
   "outputs": [
    {
     "data": {
      "text/plain": [
       "<AxesSubplot:xlabel='Date', ylabel='Consumption'>"
      ]
     },
     "execution_count": 57,
     "metadata": {},
     "output_type": "execute_result"
    },
    {
     "data": {
      "image/png": "[encoded data removed]",
      "text/plain": [
       "<Figure size 720x360 with 3 Axes>"
      ]
     },
     "metadata": {
      "needs_background": "light"
     },
     "output_type": "display_data"
    }
   ],
   "source": [
    "# YOUR CODE HERE\n",
    "# raise NotImplementedError()\n",
    "fig , axs = plt.subplots(3,1, figsize=(10,5), sharex=True)\n",
    "\n",
    "sns.lineplot(data=df, x=df.index, y='Solar', marker=',', linestyle='None', ax=axs[0] )\n",
    "sns.lineplot(data=df, x=df.index, y='Wind', marker=',', linestyle='None' ,ax=axs[1])\n",
    "sns.lineplot(data=df, x=df.index, y='Consumption', marker=',', linestyle='None' ,ax=axs[2])\n"
   ]
  },
  {
   "cell_type": "markdown",
   "metadata": {
    "deletable": false,
    "editable": false,
    "nbgrader": {
     "cell_type": "markdown",
     "checksum": "fa32bb69cce4cb0247851ea2ca5ad11a",
     "grade": false,
     "grade_id": "cell-c351cc4b1535bdfc",
     "locked": true,
     "schema_version": 3,
     "solution": false,
     "task": false
    },
    "slideshow": {
     "slide_type": "slide"
    }
   },
   "source": [
    "## Investigating Patterns\n",
    "... by looking at slices of the data or grouping information ...\n",
    "\n",
    "Plot the `Consumption` for one dedicated year."
   ]
  },
  {
   "cell_type": "code",
   "execution_count": 60,
   "metadata": {
    "deletable": false,
    "nbgrader": {
     "cell_type": "code",
     "checksum": "830aa1928c9b57a358a3c7ce9eaa9ee9",
     "grade": true,
     "grade_id": "cell-ba00b330342e5941",
     "locked": false,
     "points": 6,
     "schema_version": 3,
     "solution": true,
     "task": false
    },
    "slideshow": {
     "slide_type": "subslide"
    }
   },
   "outputs": [
    {
     "data": {
      "text/plain": [
       "<AxesSubplot:xlabel='Date', ylabel='Consumption'>"
      ]
     },
     "execution_count": 60,
     "metadata": {},
     "output_type": "execute_result"
    },
    {
     "data": {
      "image/png": "[encoded data removed]",
      "text/plain": [
       "<Figure size 432x288 with 1 Axes>"
      ]
     },
     "metadata": {
      "needs_background": "light"
     },
     "output_type": "display_data"
    }
   ],
   "source": [
    "# YOUR CODE HERE\n",
    "# raise NotImplementedError()\n",
    "df2015 = df.loc['2015']\n",
    "sns.lineplot(data=df2015, x=df2015.index, y='Consumption', marker=',', linestyle='None')"
   ]
  },
  {
   "cell_type": "markdown",
   "metadata": {
    "deletable": false,
    "editable": false,
    "nbgrader": {
     "cell_type": "markdown",
     "checksum": "3af06937f86083c9a440121bb5efa003",
     "grade": false,
     "grade_id": "cell-fa4873666fce9fc0",
     "locked": true,
     "schema_version": 3,
     "solution": false,
     "task": false
    }
   },
   "source": [
    "Let's try to group the data (e.g. monthly). You know an appropriate visualization for that!"
   ]
  },
  {
   "cell_type": "code",
   "execution_count": 65,
   "metadata": {
    "deletable": false,
    "nbgrader": {
     "cell_type": "code",
     "checksum": "25c8f6106c0bdd158a675823bf62dc39",
     "grade": true,
     "grade_id": "cell-58bc389fd3709a24",
     "locked": false,
     "points": 7,
     "schema_version": 3,
     "solution": true,
     "task": false
    },
    "slideshow": {
     "slide_type": "subslide"
    }
   },
   "outputs": [
    {
     "data": {
      "text/plain": [
       "<AxesSubplot:xlabel='Date', ylabel='Consumption'>"
      ]
     },
     "execution_count": 65,
     "metadata": {},
     "output_type": "execute_result"
    },
    {
     "data": {
      "image/png": "[encoded data removed]",
      "text/plain": [
       "<Figure size 432x288 with 1 Axes>"
      ]
     },
     "metadata": {
      "needs_background": "light"
     },
     "output_type": "display_data"
    }
   ],
   "source": [
    "# YOUR CODE HERE\n",
    "# raise NotImplementedError()\n",
    "# sns.barplot(data=df2015.groupby('Month').sum(),x='Month', y='Consumption')\n",
    "sns.barplot(data=df2015, x=df2015.index.month, y='Consumption',  linestyle='None')"
   ]
  },
  {
   "cell_type": "markdown",
   "metadata": {
    "deletable": false,
    "editable": false,
    "nbgrader": {
     "cell_type": "markdown",
     "checksum": "047e0d577cbf29d4ce2d511868d894d9",
     "grade": false,
     "grade_id": "cell-5370cecb63ce6dfd",
     "locked": true,
     "schema_version": 3,
     "solution": false,
     "task": false
    },
    "slideshow": {
     "slide_type": "slide"
    }
   },
   "source": [
    "## Comparing Consumption and Production\n",
    "### Resampling the Data\n",
    "For further analyisis, a daily view is maybe not optimal. Let's resample our data to a monthly view (sum of data in a month).\n",
    "\n",
    "Create a new data frame with the columns `'Consumption', 'Wind', 'Solar', 'Wind+Solar'`. \n",
    "Use [resample](https://pandas.pydata.org/pandas-docs/stable/reference/api/pandas.DataFrame.resample.html) on that data to resample it on a monthly view and use [sum](https://pandas.pydata.org/pandas-docs/stable/reference/api/pandas.core.resample.Resampler.sum.html?highlight=sum#pandas.core.resample.Resampler.sum) on that resampled data to compute the monthly grouped sum.\n",
    "\n",
    "Print the tail."
   ]
  },
  {
   "cell_type": "code",
   "execution_count": 68,
   "metadata": {
    "deletable": false,
    "nbgrader": {
     "cell_type": "code",
     "checksum": "b3394cb00189c850f065b2d8d798f973",
     "grade": true,
     "grade_id": "cell-2ea8fa1102276c64",
     "locked": false,
     "points": 12,
     "schema_version": 3,
     "solution": true,
     "task": false
    },
    "slideshow": {
     "slide_type": "subslide"
    }
   },
   "outputs": [
    {
     "data": {
      "text/html": [
       "<div>\n",
       "<style scoped>\n",
       "    .dataframe tbody tr th:only-of-type {\n",
       "        vertical-align: middle;\n",
       "    }\n",
       "\n",
       "    .dataframe tbody tr th {\n",
       "        vertical-align: top;\n",
       "    }\n",
       "\n",
       "    .dataframe thead th {\n",
       "        text-align: right;\n",
       "    }\n",
       "</style>\n",
       "<table border=\"1\" class=\"dataframe\">\n",
       "  <thead>\n",
       "    <tr style=\"text-align: right;\">\n",
       "      <th></th>\n",
       "      <th>Consumption</th>\n",
       "      <th>Wind</th>\n",
       "      <th>Solar</th>\n",
       "      <th>Wind+Solar</th>\n",
       "      <th>Year</th>\n",
       "    </tr>\n",
       "    <tr>\n",
       "      <th>Date</th>\n",
       "      <th></th>\n",
       "      <th></th>\n",
       "      <th></th>\n",
       "      <th></th>\n",
       "      <th></th>\n",
       "    </tr>\n",
       "  </thead>\n",
       "  <tbody>\n",
       "    <tr>\n",
       "      <th>2017-08-31</th>\n",
       "      <td>40029.77368</td>\n",
       "      <td>5499.798</td>\n",
       "      <td>4602.808</td>\n",
       "      <td>10102.606</td>\n",
       "      <td>62527</td>\n",
       "    </tr>\n",
       "    <tr>\n",
       "      <th>2017-09-30</th>\n",
       "      <td>40078.56092</td>\n",
       "      <td>6287.730</td>\n",
       "      <td>3079.291</td>\n",
       "      <td>9367.021</td>\n",
       "      <td>60510</td>\n",
       "    </tr>\n",
       "    <tr>\n",
       "      <th>2017-10-31</th>\n",
       "      <td>42355.21893</td>\n",
       "      <td>12480.097</td>\n",
       "      <td>2130.557</td>\n",
       "      <td>14610.654</td>\n",
       "      <td>62527</td>\n",
       "    </tr>\n",
       "    <tr>\n",
       "      <th>2017-11-30</th>\n",
       "      <td>44339.72455</td>\n",
       "      <td>10259.001</td>\n",
       "      <td>831.044</td>\n",
       "      <td>11090.045</td>\n",
       "      <td>60510</td>\n",
       "    </tr>\n",
       "    <tr>\n",
       "      <th>2017-12-31</th>\n",
       "      <td>44511.10431</td>\n",
       "      <td>14725.436</td>\n",
       "      <td>494.171</td>\n",
       "      <td>15219.607</td>\n",
       "      <td>62527</td>\n",
       "    </tr>\n",
       "  </tbody>\n",
       "</table>\n",
       "</div>"
      ],
      "text/plain": [
       "            Consumption       Wind     Solar  Wind+Solar   Year\n",
       "Date                                                           \n",
       "2017-08-31  40029.77368   5499.798  4602.808   10102.606  62527\n",
       "2017-09-30  40078.56092   6287.730  3079.291    9367.021  60510\n",
       "2017-10-31  42355.21893  12480.097  2130.557   14610.654  62527\n",
       "2017-11-30  44339.72455  10259.001   831.044   11090.045  60510\n",
       "2017-12-31  44511.10431  14725.436   494.171   15219.607  62527"
      ]
     },
     "execution_count": 68,
     "metadata": {},
     "output_type": "execute_result"
    }
   ],
   "source": [
    "# YOUR CODE HERE\n",
    "# raise NotImplementedError()\n",
    "dfMonth = df.resample('M').sum()\n",
    "dfMonth.tail()"
   ]
  },
  {
   "cell_type": "markdown",
   "metadata": {
    "deletable": false,
    "editable": false,
    "nbgrader": {
     "cell_type": "markdown",
     "checksum": "67a0faec720f0cc1dd65db025b47e1b1",
     "grade": false,
     "grade_id": "cell-ceda6955e2219656",
     "locked": true,
     "schema_version": 3,
     "solution": false,
     "task": false
    }
   },
   "source": [
    "Plot `'Consumption', 'Wind', 'Solar'` in one plot. Use different colors and different styles. Use a legend and don't forget about axis labeling."
   ]
  },
  {
   "cell_type": "code",
   "execution_count": 85,
   "metadata": {
    "deletable": false,
    "nbgrader": {
     "cell_type": "code",
     "checksum": "f05e4c5f1ff739814ad8fb5cd8534db0",
     "grade": true,
     "grade_id": "cell-b8cd7216e28e6302",
     "locked": false,
     "points": 12,
     "schema_version": 3,
     "solution": true,
     "task": false
    },
    "slideshow": {
     "slide_type": "subslide"
    }
   },
   "outputs": [
    {
     "data": {
      "image/png": "[encoded data removed]",
      "text/plain": [
       "<Figure size 432x288 with 1 Axes>"
      ]
     },
     "metadata": {
      "needs_background": "light"
     },
     "output_type": "display_data"
    }
   ],
   "source": [
    "# YOUR CODE HERE\n",
    "# raise NotImplementedError()\n",
    "plt.figure()\n",
    "sns.lineplot(data=dfMonth.loc['2015'], x=dfMonth.loc['2015'].index,y='Consumption')\n",
    "sns.lineplot(data=dfMonth.loc['2015'], x=dfMonth.loc['2015'].index,y='Wind')\n",
    "sns.lineplot(data=dfMonth.loc['2015'], x=dfMonth.loc['2015'].index,y='Solar')\n",
    "plt.show()\n"
   ]
  },
  {
   "cell_type": "markdown",
   "metadata": {
    "deletable": false,
    "editable": false,
    "nbgrader": {
     "cell_type": "markdown",
     "checksum": "be7e9c00db81353c2f8e2dd72ef94e21",
     "grade": false,
     "grade_id": "cell-56310d1f6f5cdb60",
     "locked": true,
     "schema_version": 3,
     "solution": false,
     "task": false
    },
    "slideshow": {
     "slide_type": "slide"
    }
   },
   "source": [
    "## Use Your Own Data\n",
    "Go to [Wiki Pageviews](https://tools.wmflabs.org/pageviews/) and download a dataset of the pageviews of a Wikipedia page of your choice. \n",
    "- Enter the page name(s).\n",
    "- Click into the Dates field and choose \"All time\".\n",
    "- Download the .csv file.\n",
    "\n",
    "Next, load the data into a pandas ``DataFrame``:\n",
    "- Change the index to a ``DateTimeIndex``.\n",
    "- Inspect the dataset (missing values?)\n",
    "- Add additional columns (Weekday, Month)\n",
    "- Try to find patterns:\n",
    "  - selecting just one year/month\n",
    "  - grouping monthly/weekly\n",
    "\n",
    "Finally, for the submission, show at least one plot with a weekly aggregate of numbers."
   ]
  },
  {
   "cell_type": "code",
   "execution_count": null,
   "metadata": {
    "deletable": false,
    "nbgrader": {
     "cell_type": "code",
     "checksum": "623389dd23bd5824ae2a423d6c3bb6ec",
     "grade": true,
     "grade_id": "cell-b1476ac99b2d5d32",
     "locked": false,
     "points": 25,
     "schema_version": 3,
     "solution": true,
     "task": false
    },
    "slideshow": {
     "slide_type": "skip"
    }
   },
   "outputs": [],
   "source": [
    "# YOUR CODE HERE\n",
    "raise NotImplementedError()"
   ]
  },
  {
   "cell_type": "markdown",
   "metadata": {
    "deletable": false,
    "editable": false,
    "nbgrader": {
     "cell_type": "markdown",
     "checksum": "74d4299c166bfe227de224647851eb5b",
     "grade": false,
     "grade_id": "cell-e3e3dd8ec036d20d",
     "locked": true,
     "schema_version": 3,
     "solution": false,
     "task": false
    },
    "slideshow": {
     "slide_type": "skip"
    }
   },
   "source": [
    "### Inspiration/Further Reading\n",
    "- [Time Series Analysis with Pandas (Tutorial)](https://www.dataquest.io/blog/tutorial-time-series-analysis-with-pandas/)\n",
    "- [Working with Time Series in Python (Tutorial)](https://jakevdp.github.io/PythonDataScienceHandbook/03.11-working-with-time-series.html)"
   ]
  }
 ],
 "metadata": {
  "kernelspec": {
   "display_name": "Python 3 (ipykernel)",
   "language": "python",
   "name": "python3"
  },
  "language_info": {
   "codemirror_mode": {
    "name": "ipython",
    "version": 3
   },
   "file_extension": ".py",
   "mimetype": "text/x-python",
   "name": "python",
   "nbconvert_exporter": "python",
   "pygments_lexer": "ipython3",
   "version": "3.8.8"
  }
 },
 "nbformat": 4,
 "nbformat_minor": 2
}
